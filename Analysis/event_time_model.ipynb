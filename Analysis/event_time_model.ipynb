{
 "cells": [
  {
   "cell_type": "code",
   "execution_count": 1,
   "metadata": {
    "collapsed": true
   },
   "outputs": [],
   "source": [
    "import pandas as pd\n",
    "import matplotlib.pyplot as plt"
   ]
  },
  {
   "cell_type": "code",
   "execution_count": 2,
   "metadata": {
    "collapsed": true
   },
   "outputs": [],
   "source": [
    "times_EU = pd.read_csv(\"event_times_EU-2018-12-17.csv\")\n",
    "times_NA = pd.read_csv(\"event_times_NA-2018-12-17.csv\")"
   ]
  },
  {
   "cell_type": "markdown",
   "metadata": {},
   "source": [
    "The aim is to get rid of the effect of the non-queue time effects, i.e. times when the player is not actually in the queue but instead afk. Let us assume that the queue time $q$ is a random variable with a gamma distribution, $q \\sim \\text{Gamma}(\\alpha, \\beta)$. The afk time is also a random variable $l$ with a normal distribution, $l \\sim \\text{Norm}(\\mu, \\sigma)$. The total time is a sum of these values $t = q + l$."
   ]
  },
  {
   "cell_type": "markdown",
   "metadata": {},
   "source": [
    "https://lmfit.github.io/lmfit-py/model.html"
   ]
  },
  {
   "cell_type": "code",
   "execution_count": null,
   "metadata": {
    "collapsed": true
   },
   "outputs": [],
   "source": []
  }
 ],
 "metadata": {
  "kernelspec": {
   "display_name": "Python 3",
   "language": "python",
   "name": "python3"
  },
  "language_info": {
   "codemirror_mode": {
    "name": "ipython",
    "version": 3
   },
   "file_extension": ".py",
   "mimetype": "text/x-python",
   "name": "python",
   "nbconvert_exporter": "python",
   "pygments_lexer": "ipython3",
   "version": "3.6.2"
  }
 },
 "nbformat": 4,
 "nbformat_minor": 2
}
